{
 "cells": [
  {
   "cell_type": "code",
   "execution_count": null,
   "metadata": {},
   "outputs": [
    {
     "name": "stdout",
     "output_type": "stream",
     "text": [
      "Check speed of a vehicle and give fine!\n",
      "Enter speed in km/hr for simple function:  88\n",
      " you. have to pay a fine\n"
     ]
    }
   ],
   "source": [
    "\n",
    "def speed_function_simple(speed): # example of function with no return value\n",
    "    if speed < 80:\n",
    "        print(\" speed is ok\")\n",
    "    else:\n",
    "        print(\" you. have to pay a fine\")\n",
    "\n",
    "\n",
    "def speed_function_advanced(speed): # example of function with return value\n",
    "\n",
    "    total_fine = 0\n",
    "        \n",
    "    if (speed < 80):\n",
    "        print(\" speed is ok.\")\n",
    "\n",
    "    elif (speed >= 80) and (speed < 100):\n",
    "        base_fine = 200\n",
    "        speed_diff = speed - 80\n",
    "        extra_fine = speed_diff * 10\n",
    "        total_fine = extra_fine + base_fine \n",
    "        print(\" fine of  \", total_fine)\n",
    "    elif (speed >= 100) and (speed < 140):\n",
    "        print(\" fine of 600 AUD\")\n",
    "    else:\n",
    "        print(\" time to go to prison. \")\n",
    "\n",
    "    return total_fine\n",
    "\n",
    " \n",
    "\n",
    "\n",
    "def main():\n",
    "    print(\"Check speed of a vehicle and give fine!\")\n",
    "\n",
    "    speed = int(input(\"Enter speed in km/hr for simple function:  \"))\n",
    "\n",
    "    speed_function_simple(speed)\n",
    "\n",
    "\n",
    "    speed_adv = int(input(\"Enter speed in km/hr for advanced function:  \"))\n",
    "\n",
    "    fine = speed_function_advanced(speed_adv)\n",
    "\n",
    "    print('the fine returned to main is: ', fine, '  dollars')\n",
    "\n",
    "\n",
    "if __name__ == '__main__':\n",
    "    main()\n"
   ]
  },
  {
   "cell_type": "code",
   "execution_count": null,
   "metadata": {},
   "outputs": [],
   "source": [
    "number = 10\n"
   ]
  },
  {
   "cell_type": "code",
   "execution_count": null,
   "metadata": {},
   "outputs": [],
   "source": [
    "print(number)"
   ]
  },
  {
   "cell_type": "code",
   "execution_count": null,
   "metadata": {},
   "outputs": [],
   "source": []
  }
 ],
 "metadata": {
  "kernelspec": {
   "display_name": "Python 3",
   "language": "python",
   "name": "python3"
  },
  "language_info": {
   "codemirror_mode": {
    "name": "ipython",
    "version": 3
   },
   "file_extension": ".py",
   "mimetype": "text/x-python",
   "name": "python",
   "nbconvert_exporter": "python",
   "pygments_lexer": "ipython3",
   "version": "3.7.4"
  }
 },
 "nbformat": 4,
 "nbformat_minor": 4
}
